{
 "cells": [
  {
   "cell_type": "markdown",
   "metadata": {},
   "source": [
    "# Statcast Data Analysis \n",
    "\n",
    "### Hypothesis Testing\n",
    "\n",
    "#### Spin Rate vs. Swining Strikes"
   ]
  },
  {
   "cell_type": "code",
   "execution_count": 1,
   "metadata": {},
   "outputs": [],
   "source": [
    "import pandas as pd\n",
    "import numpy as np\n",
    "import matplotlib.pyplot as plt\n",
    "import seaborn as sns\n",
    "import scipy.stats as stats\n",
    "from scipy.stats import ttest_1samp"
   ]
  },
  {
   "cell_type": "markdown",
   "metadata": {},
   "source": [
    "---"
   ]
  },
  {
   "cell_type": "code",
   "execution_count": 5,
   "metadata": {},
   "outputs": [
    {
     "ename": "FileNotFoundError",
     "evalue": "[Errno 2] No such file or directory: 'project_4/baseball_data/All_statcast.csv'",
     "output_type": "error",
     "traceback": [
      "\u001b[0;31m---------------------------------------------------------------------------\u001b[0m",
      "\u001b[0;31mFileNotFoundError\u001b[0m                         Traceback (most recent call last)",
      "\u001b[0;32m<ipython-input-5-299f5614f371>\u001b[0m in \u001b[0;36m<module>\u001b[0;34m\u001b[0m\n\u001b[0;32m----> 1\u001b[0;31m \u001b[0mfull_statcast\u001b[0m\u001b[0;34m=\u001b[0m \u001b[0mpd\u001b[0m\u001b[0;34m.\u001b[0m\u001b[0mread_csv\u001b[0m\u001b[0;34m(\u001b[0m\u001b[0;34m\"project_4/baseball_data/All_statcast.csv\"\u001b[0m\u001b[0;34m)\u001b[0m\u001b[0;34m\u001b[0m\u001b[0;34m\u001b[0m\u001b[0m\n\u001b[0m",
      "\u001b[0;32m~/.pyenv/versions/3.8.5/lib/python3.8/site-packages/pandas/io/parsers.py\u001b[0m in \u001b[0;36mread_csv\u001b[0;34m(filepath_or_buffer, sep, delimiter, header, names, index_col, usecols, squeeze, prefix, mangle_dupe_cols, dtype, engine, converters, true_values, false_values, skipinitialspace, skiprows, skipfooter, nrows, na_values, keep_default_na, na_filter, verbose, skip_blank_lines, parse_dates, infer_datetime_format, keep_date_col, date_parser, dayfirst, cache_dates, iterator, chunksize, compression, thousands, decimal, lineterminator, quotechar, quoting, doublequote, escapechar, comment, encoding, dialect, error_bad_lines, warn_bad_lines, delim_whitespace, low_memory, memory_map, float_precision)\u001b[0m\n\u001b[1;32m    684\u001b[0m     )\n\u001b[1;32m    685\u001b[0m \u001b[0;34m\u001b[0m\u001b[0m\n\u001b[0;32m--> 686\u001b[0;31m     \u001b[0;32mreturn\u001b[0m \u001b[0m_read\u001b[0m\u001b[0;34m(\u001b[0m\u001b[0mfilepath_or_buffer\u001b[0m\u001b[0;34m,\u001b[0m \u001b[0mkwds\u001b[0m\u001b[0;34m)\u001b[0m\u001b[0;34m\u001b[0m\u001b[0;34m\u001b[0m\u001b[0m\n\u001b[0m\u001b[1;32m    687\u001b[0m \u001b[0;34m\u001b[0m\u001b[0m\n\u001b[1;32m    688\u001b[0m \u001b[0;34m\u001b[0m\u001b[0m\n",
      "\u001b[0;32m~/.pyenv/versions/3.8.5/lib/python3.8/site-packages/pandas/io/parsers.py\u001b[0m in \u001b[0;36m_read\u001b[0;34m(filepath_or_buffer, kwds)\u001b[0m\n\u001b[1;32m    450\u001b[0m \u001b[0;34m\u001b[0m\u001b[0m\n\u001b[1;32m    451\u001b[0m     \u001b[0;31m# Create the parser.\u001b[0m\u001b[0;34m\u001b[0m\u001b[0;34m\u001b[0m\u001b[0;34m\u001b[0m\u001b[0m\n\u001b[0;32m--> 452\u001b[0;31m     \u001b[0mparser\u001b[0m \u001b[0;34m=\u001b[0m \u001b[0mTextFileReader\u001b[0m\u001b[0;34m(\u001b[0m\u001b[0mfp_or_buf\u001b[0m\u001b[0;34m,\u001b[0m \u001b[0;34m**\u001b[0m\u001b[0mkwds\u001b[0m\u001b[0;34m)\u001b[0m\u001b[0;34m\u001b[0m\u001b[0;34m\u001b[0m\u001b[0m\n\u001b[0m\u001b[1;32m    453\u001b[0m \u001b[0;34m\u001b[0m\u001b[0m\n\u001b[1;32m    454\u001b[0m     \u001b[0;32mif\u001b[0m \u001b[0mchunksize\u001b[0m \u001b[0;32mor\u001b[0m \u001b[0miterator\u001b[0m\u001b[0;34m:\u001b[0m\u001b[0;34m\u001b[0m\u001b[0;34m\u001b[0m\u001b[0m\n",
      "\u001b[0;32m~/.pyenv/versions/3.8.5/lib/python3.8/site-packages/pandas/io/parsers.py\u001b[0m in \u001b[0;36m__init__\u001b[0;34m(self, f, engine, **kwds)\u001b[0m\n\u001b[1;32m    934\u001b[0m             \u001b[0mself\u001b[0m\u001b[0;34m.\u001b[0m\u001b[0moptions\u001b[0m\u001b[0;34m[\u001b[0m\u001b[0;34m\"has_index_names\"\u001b[0m\u001b[0;34m]\u001b[0m \u001b[0;34m=\u001b[0m \u001b[0mkwds\u001b[0m\u001b[0;34m[\u001b[0m\u001b[0;34m\"has_index_names\"\u001b[0m\u001b[0;34m]\u001b[0m\u001b[0;34m\u001b[0m\u001b[0;34m\u001b[0m\u001b[0m\n\u001b[1;32m    935\u001b[0m \u001b[0;34m\u001b[0m\u001b[0m\n\u001b[0;32m--> 936\u001b[0;31m         \u001b[0mself\u001b[0m\u001b[0;34m.\u001b[0m\u001b[0m_make_engine\u001b[0m\u001b[0;34m(\u001b[0m\u001b[0mself\u001b[0m\u001b[0;34m.\u001b[0m\u001b[0mengine\u001b[0m\u001b[0;34m)\u001b[0m\u001b[0;34m\u001b[0m\u001b[0;34m\u001b[0m\u001b[0m\n\u001b[0m\u001b[1;32m    937\u001b[0m \u001b[0;34m\u001b[0m\u001b[0m\n\u001b[1;32m    938\u001b[0m     \u001b[0;32mdef\u001b[0m \u001b[0mclose\u001b[0m\u001b[0;34m(\u001b[0m\u001b[0mself\u001b[0m\u001b[0;34m)\u001b[0m\u001b[0;34m:\u001b[0m\u001b[0;34m\u001b[0m\u001b[0;34m\u001b[0m\u001b[0m\n",
      "\u001b[0;32m~/.pyenv/versions/3.8.5/lib/python3.8/site-packages/pandas/io/parsers.py\u001b[0m in \u001b[0;36m_make_engine\u001b[0;34m(self, engine)\u001b[0m\n\u001b[1;32m   1166\u001b[0m     \u001b[0;32mdef\u001b[0m \u001b[0m_make_engine\u001b[0m\u001b[0;34m(\u001b[0m\u001b[0mself\u001b[0m\u001b[0;34m,\u001b[0m \u001b[0mengine\u001b[0m\u001b[0;34m=\u001b[0m\u001b[0;34m\"c\"\u001b[0m\u001b[0;34m)\u001b[0m\u001b[0;34m:\u001b[0m\u001b[0;34m\u001b[0m\u001b[0;34m\u001b[0m\u001b[0m\n\u001b[1;32m   1167\u001b[0m         \u001b[0;32mif\u001b[0m \u001b[0mengine\u001b[0m \u001b[0;34m==\u001b[0m \u001b[0;34m\"c\"\u001b[0m\u001b[0;34m:\u001b[0m\u001b[0;34m\u001b[0m\u001b[0;34m\u001b[0m\u001b[0m\n\u001b[0;32m-> 1168\u001b[0;31m             \u001b[0mself\u001b[0m\u001b[0;34m.\u001b[0m\u001b[0m_engine\u001b[0m \u001b[0;34m=\u001b[0m \u001b[0mCParserWrapper\u001b[0m\u001b[0;34m(\u001b[0m\u001b[0mself\u001b[0m\u001b[0;34m.\u001b[0m\u001b[0mf\u001b[0m\u001b[0;34m,\u001b[0m \u001b[0;34m**\u001b[0m\u001b[0mself\u001b[0m\u001b[0;34m.\u001b[0m\u001b[0moptions\u001b[0m\u001b[0;34m)\u001b[0m\u001b[0;34m\u001b[0m\u001b[0;34m\u001b[0m\u001b[0m\n\u001b[0m\u001b[1;32m   1169\u001b[0m         \u001b[0;32melse\u001b[0m\u001b[0;34m:\u001b[0m\u001b[0;34m\u001b[0m\u001b[0;34m\u001b[0m\u001b[0m\n\u001b[1;32m   1170\u001b[0m             \u001b[0;32mif\u001b[0m \u001b[0mengine\u001b[0m \u001b[0;34m==\u001b[0m \u001b[0;34m\"python\"\u001b[0m\u001b[0;34m:\u001b[0m\u001b[0;34m\u001b[0m\u001b[0;34m\u001b[0m\u001b[0m\n",
      "\u001b[0;32m~/.pyenv/versions/3.8.5/lib/python3.8/site-packages/pandas/io/parsers.py\u001b[0m in \u001b[0;36m__init__\u001b[0;34m(self, src, **kwds)\u001b[0m\n\u001b[1;32m   1996\u001b[0m         \u001b[0mkwds\u001b[0m\u001b[0;34m[\u001b[0m\u001b[0;34m\"usecols\"\u001b[0m\u001b[0;34m]\u001b[0m \u001b[0;34m=\u001b[0m \u001b[0mself\u001b[0m\u001b[0;34m.\u001b[0m\u001b[0musecols\u001b[0m\u001b[0;34m\u001b[0m\u001b[0;34m\u001b[0m\u001b[0m\n\u001b[1;32m   1997\u001b[0m \u001b[0;34m\u001b[0m\u001b[0m\n\u001b[0;32m-> 1998\u001b[0;31m         \u001b[0mself\u001b[0m\u001b[0;34m.\u001b[0m\u001b[0m_reader\u001b[0m \u001b[0;34m=\u001b[0m \u001b[0mparsers\u001b[0m\u001b[0;34m.\u001b[0m\u001b[0mTextReader\u001b[0m\u001b[0;34m(\u001b[0m\u001b[0msrc\u001b[0m\u001b[0;34m,\u001b[0m \u001b[0;34m**\u001b[0m\u001b[0mkwds\u001b[0m\u001b[0;34m)\u001b[0m\u001b[0;34m\u001b[0m\u001b[0;34m\u001b[0m\u001b[0m\n\u001b[0m\u001b[1;32m   1999\u001b[0m         \u001b[0mself\u001b[0m\u001b[0;34m.\u001b[0m\u001b[0munnamed_cols\u001b[0m \u001b[0;34m=\u001b[0m \u001b[0mself\u001b[0m\u001b[0;34m.\u001b[0m\u001b[0m_reader\u001b[0m\u001b[0;34m.\u001b[0m\u001b[0munnamed_cols\u001b[0m\u001b[0;34m\u001b[0m\u001b[0;34m\u001b[0m\u001b[0m\n\u001b[1;32m   2000\u001b[0m \u001b[0;34m\u001b[0m\u001b[0m\n",
      "\u001b[0;32mpandas/_libs/parsers.pyx\u001b[0m in \u001b[0;36mpandas._libs.parsers.TextReader.__cinit__\u001b[0;34m()\u001b[0m\n",
      "\u001b[0;32mpandas/_libs/parsers.pyx\u001b[0m in \u001b[0;36mpandas._libs.parsers.TextReader._setup_parser_source\u001b[0;34m()\u001b[0m\n",
      "\u001b[0;31mFileNotFoundError\u001b[0m: [Errno 2] No such file or directory: 'project_4/baseball_data/All_statcast.csv'"
     ]
    }
   ],
   "source": [
    "full_statcast= pd.read_csv(\"project_4/baseball_data/All_statcast.csv\")"
   ]
  },
  {
   "cell_type": "markdown",
   "metadata": {},
   "source": [
    "---"
   ]
  },
  {
   "cell_type": "code",
   "execution_count": null,
   "metadata": {},
   "outputs": [],
   "source": [
    "# droping na values and unecessary columns\n",
    "full_statcast.dropna(inplace=True)\n",
    "full_statcast.drop([\"Unnamed: 0\"], axis=1, inplace=True)"
   ]
  },
  {
   "cell_type": "markdown",
   "metadata": {},
   "source": [
    "### Overall Stats"
   ]
  },
  {
   "cell_type": "code",
   "execution_count": null,
   "metadata": {},
   "outputs": [],
   "source": [
    "# max spin rate of all pitches thrown\n",
    "max_overall_spin_rate = np.max(full_statcast[\"release_spin_rate\"])\n",
    "#max_overall_spin_rate\n",
    "\n",
    "# min spin rate of all pitches thrown\n",
    "min_overall_spin_rate = np.min(full_statcast[\"release_spin_rate\"])\n",
    "#min_overall_spin_rate\n",
    "\n",
    "# spin rate mean of all the pitches thrown\n",
    "overall_spin_rate_mean = np.mean(full_statcast[\"release_spin_rate\"])\n",
    "#overall_spin_rate_mean\n",
    "\n",
    "# spin rate mean by pitch type\n",
    "pitch_spin_rate_mean = full_statcast.groupby(\"pitch_name\")[\"release_spin_rate\"].mean().sort_values(ascending=False)\n",
    "#pitch_spin_rate_mean\n",
    "\n",
    "# max spin rate by pitch type\n",
    "max_spin_rate_pitch = full_statcast.groupby(\"pitch_name\")[\"release_spin_rate\"].max().sort_values(ascending=False)\n",
    "#max_spin_rate_pitch\n",
    "\n",
    "# min spin rate by pitch type\n",
    "min_spin_rate_pitch = full_statcast.groupby(\"pitch_name\")[\"release_spin_rate\"].min().sort_values(ascending=False)\n",
    "#min_spin_rate_pitch\n",
    "\n",
    "\n",
    "# count of all outcomes\n",
    "#full_statcast[\"description\"].value_counts()"
   ]
  },
  {
   "cell_type": "markdown",
   "metadata": {},
   "source": [
    "### Players General Analysis"
   ]
  },
  {
   "cell_type": "code",
   "execution_count": null,
   "metadata": {},
   "outputs": [],
   "source": [
    "# individual player max spin rate\n",
    "players_max_spin = full_statcast.groupby(\"player_name\")[\"release_spin_rate\"].max().sort_values(ascending=False)\n",
    "#players_max_spin\n",
    "\n",
    "# individual player min spin rate\n",
    "players_min_spin = full_statcast.groupby(\"player_name\")[\"release_spin_rate\"].min().sort_values(ascending=False)\n",
    "#players_min_spin\n",
    "\n",
    "# individual player min spin rate\n",
    "players_min_spin = full_statcast.groupby(\"player_name\")[\"release_spin_rate\"].min().sort_values(ascending=False)\n",
    "#players_min_spin\n",
    "\n",
    "# individual player max spin rate by pitch type\n",
    "player_pitch_max_spin = full_statcast.groupby(['player_name','pitch_name'])[\"release_spin_rate\"].max()\n",
    "#player_pitch_max_spin\n",
    "\n",
    "# individual player min spin rate by pitch type\n",
    "player_pitch_min_spin = full_statcast.groupby(['player_name','pitch_name'])[\"release_spin_rate\"].min()\n",
    "#player_pitch_min_spin\n",
    "\n",
    "# individual player mean spin rate by pitch type\n",
    "player_pitch_mean_spin = full_statcast.groupby(['player_name','pitch_name'])[\"release_spin_rate\"].mean()\n",
    "#player_pitch_mean_spin"
   ]
  },
  {
   "cell_type": "markdown",
   "metadata": {},
   "source": [
    "### No Wiff Pitches"
   ]
  },
  {
   "cell_type": "code",
   "execution_count": null,
   "metadata": {},
   "outputs": [],
   "source": [
    "# new df with pitches that didn´t produced a wiff\n",
    "no_wiff = full_statcast[full_statcast[\"description\"].isin([\"hit_into_play\", \"hit_into_play_score\", \"hit_into_play_no_out\"])]\n",
    "\n",
    "# mean spin rate for pitches that didn´t produce a wiff\n",
    "no_wiff_mean_spin = no_wiff[\"release_spin_rate\"].mean()\n",
    "#no_wiff_mean_spin\n",
    "\n",
    "# total number of pitches that didn´t produce a wiff\n",
    "total_no_wiff = no_wiff[\"release_spin_rate\"].count()\n",
    "#total_no_wiff\n",
    "\n",
    "# new df with just the pitches that produced a wiff\n",
    "wiffs = full_statcast[full_statcast[\"description\"].isin([\"swinging_strike\", \"swinging_strike_blocked\"])]\n",
    "\n",
    "# total number of pitches that produced a wiff\n",
    "wiffs[\"release_spin_rate\"].count()\n",
    "\n",
    "# cleaning data, updating values\n",
    "wiffs = wiffs.replace(\"Knuckleball\", \"Knuckle Ball\")\n",
    "wiffs = wiffs.replace(\"Split-Finger\", \"Split Finger\")"
   ]
  },
  {
   "cell_type": "markdown",
   "metadata": {},
   "source": [
    "### Wiff Pitches"
   ]
  },
  {
   "cell_type": "code",
   "execution_count": null,
   "metadata": {},
   "outputs": [],
   "source": [
    "# mean of all the pitches that produced a wiff\n",
    "total_wiffs_mean = wiffs[\"release_spin_rate\"].mean()\n",
    "#print(f\"Total Wiffs Mean: {total_wiffs_mean}\")\n",
    "\n",
    "# total number of pitches that produced a wiff that have a spin rate above the mean spin rate\n",
    "total_wiff_pitches_high = wiffs[wiffs[\"release_spin_rate\"] > 2251.052892013279].count()\n",
    "#print(f\"Total Wiffs Above Mean: {total_wiff_pitches_high}\")\n",
    "\n",
    "# total number of pitches that produced a wiff that have a spin rate below the mean spin rate\n",
    "total_wiff_pitches_low = wiffs[wiffs[\"release_spin_rate\"] < 2251.052892013279].count()\n",
    "#print(f\"Total Wiffs Below Mean: {total_wiff_pitches_low}\") "
   ]
  },
  {
   "cell_type": "code",
   "execution_count": null,
   "metadata": {},
   "outputs": [],
   "source": [
    "# NEW DF WITH MEAN BY PITCH TYPE FOR WIFF AND NON-WIFF \n",
    "\n",
    "# mean spin rate for pitches that didn´t produce a wiff\n",
    "in_play_spin_mean = pd.DataFrame(no_wiff.groupby(\"pitch_name\")[\"release_spin_rate\"].mean()).reset_index()\n",
    "\n",
    "# re-naming columns\n",
    "in_play_spin_mean = in_play_spin_mean.rename(columns = {\"pitch_name\": \"in_play_pitch_name\",\n",
    "                                            \"release_spin_rate\": \"in_play_spin_rate\"})\n",
    "\n",
    "# mean spin rate for pitches that produced a wiff\n",
    "wiffs_spin_mean = pd.DataFrame(wiffs.groupby(\"pitch_name\")[\"release_spin_rate\"].mean()).reset_index()\n",
    "wiffs_spin_mean = wiffs_spin_mean.rename(columns = {\"pitch_name\": \"wiff_pitch_name\",\n",
    "                                            \"release_spin_rate\": \"wiff_spin_rate\"})\n",
    "\n",
    "# new df with the mean spin rate for pitches that produced a wiff and pitches that didn´t\n",
    "all_mean_spins = pd.concat([wiffs_spin_mean, in_play_spin_mean], axis=1, sort=False)\n",
    "\n",
    "#new column, spin rate difference\n",
    "all_mean_spins[\"spin_rate_diff_(wiff-play)\"] = all_mean_spins[\"wiff_spin_rate\"] - all_mean_spins[\"in_play_spin_rate\"]\n",
    "all_mean_spins[\"spin_rate_diff_(play-wiff)\"] = all_mean_spins[\"in_play_spin_rate\"] - all_mean_spins[\"wiff_spin_rate\"]\n",
    "\n",
    "#new total column \n",
    "all_mean_spins[\"total_spin\"] = all_mean_spins[[\"wiff_spin_rate\", \"in_play_spin_rate\"]].sum(axis=1) "
   ]
  },
  {
   "cell_type": "markdown",
   "metadata": {},
   "source": [
    "---"
   ]
  },
  {
   "cell_type": "markdown",
   "metadata": {},
   "source": [
    "## 2019 Statcast Data Analysis"
   ]
  },
  {
   "cell_type": "code",
   "execution_count": null,
   "metadata": {},
   "outputs": [],
   "source": [
    "statcast_2019 = pd.read_csv(\"baseball_data/clean_statcast_19.csv\")"
   ]
  },
  {
   "cell_type": "code",
   "execution_count": null,
   "metadata": {},
   "outputs": [],
   "source": [
    "# data cleaning \n",
    "statcast_2019.dropna(inplace=True)\n",
    "statcast_2019.drop([\"Unnamed: 0\"], axis=1, inplace=True)\n",
    "statcast_2019.drop(statcast_2019[statcast_2019.pitch_name.isin([\"Eephus\", \"Forkball\", \"Knuckle Ball\"])].index, inplace=True)\n",
    "statcast_2019 = statcast_2019.replace(\"2-Seam Fastball\", \"Sinker\")\n",
    "statcast_2019.drop(statcast_2019[statcast_2019.description.isin([\"ball\", \"foul\", \"called_strike\", \"hit_by_pitch\", \"blocked_ball\", \"foul_bunt\", \"missed_bunt\", \"pitchout\", \"bunt_foul_tip\"])].index, inplace=True)"
   ]
  },
  {
   "cell_type": "code",
   "execution_count": null,
   "metadata": {},
   "outputs": [],
   "source": [
    "# functions to create a new column based on multiple conditions from another column\n",
    "\n",
    "# pitch category column\n",
    "def conditions(s):\n",
    "    if (s[\"pitch_name\"] == \"4-Seam Fastball\") or (s[\"pitch_name\"] == \"Cutter\") or (s[\"pitch_name\"] == \"Sinker\"):\n",
    "        return \"Fastballs\"\n",
    "    elif (s[\"pitch_name\"] == \"Curveball\") or (s[\"pitch_name\"] == \"Knuckle Curve\") or (s[\"pitch_name\"] == \"Slider\"):\n",
    "        return \"Breaking Balls\"\n",
    "    else:\n",
    "        return \"Offspeed\"\n",
    "\n",
    "# outcome column\n",
    "def outcomes(o):\n",
    "    if (o[\"description\"] == \"hit_into_play\") or (o[\"description\"] == \"hit_into_play_no_out\") or (o[\"description\"] == \"hit_into_play_score\"):\n",
    "        return \"in_play\"\n",
    "    else:\n",
    "        return \"swinging_strike\"\n",
    "    \n",
    "# new columns, applying the functions created above    \n",
    "statcast_2019[\"pitch_category\"] = statcast_2019.apply(conditions, axis=1)\n",
    "statcast_2019[\"outcome\"] = statcast_2019.apply(outcomes, axis=1)\n",
    "\n",
    "# new column with values 1 and 0 for swing or in_play\n",
    "statcast_2019[\"outcome_val\"] = np.where(statcast_2019[\"outcome\"] == \"swinging_strike\", 1, 0)"
   ]
  },
  {
   "cell_type": "code",
   "execution_count": null,
   "metadata": {},
   "outputs": [],
   "source": [
    "# mean speed by outcome\n",
    "outcome_speed_mean = statcast_2019.groupby(\"outcome\")[\"release_speed\"].mean()\n",
    "#outcome_speed_mean\n",
    "\n",
    "# mean spin by outcome\n",
    "outcome_spin_mean = statcast_2019.groupby(\"outcome\")[\"release_spin_rate\"].mean()\n",
    "#outcome_spin_mean\n",
    "\n",
    "# standard deviation by outcome\n",
    "outcome_std = statcast_2019.groupby(\"outcome\")[\"release_speed\"].std()\n",
    "#outcome_std\n",
    "\n",
    "# mean speed by outcome and pitch category \n",
    "outcome_mean_speed_pitch = statcast_2019.groupby([\"pitch_category\", \"outcome\"])[\"release_speed\"].mean()\n",
    "#outcome_mean_speed_pitch\n",
    "\n",
    "# mean spin rate by outcome and pitch category\n",
    "outcome_mean_spin_pitch = statcast_2019.groupby([\"pitch_category\", \"outcome\"])[\"release_spin_rate\"].mean()\n",
    "#outcome_mean_spin_pitch"
   ]
  },
  {
   "cell_type": "markdown",
   "metadata": {},
   "source": [
    "---"
   ]
  },
  {
   "cell_type": "markdown",
   "metadata": {},
   "source": [
    "### Plots"
   ]
  },
  {
   "cell_type": "code",
   "execution_count": null,
   "metadata": {},
   "outputs": [],
   "source": [
    "sns.scatterplot(data=statcast_2019, x=\"release_speed\", y=\"release_spin_rate\", hue=\"pitch_category\", style=\"pitch_category\")"
   ]
  },
  {
   "cell_type": "code",
   "execution_count": null,
   "metadata": {},
   "outputs": [],
   "source": [
    "# subsetting each Fastball pitch type\n",
    "cutter = statcast_2019[(statcast_2019['pitch_category']==\"Fastballs\") & (statcast_2019['pitch_name']==\"Cutter\")]\n",
    "sf4 = statcast_2019[(statcast_2019['pitch_category']==\"Fastballs\") & (statcast_2019['pitch_name']==\"4-Seam Fastball\")]\n",
    "sinker = statcast_2019[(statcast_2019['pitch_category']==\"Fastballs\") & (statcast_2019['pitch_name']==\"Sinker\")]\n",
    "\n",
    "# plotting each fastball type \n",
    "fig2, axes2 = plt.subplots(1, 3, figsize = (18,8))\n",
    "#\n",
    "sns.scatterplot(data=cutter, x=\"release_speed\", y=\"release_spin_rate\", hue=\"pitch_name\", ax = axes2[0], palette=[\"green\"])\n",
    "axes2[0].set_title(\"Cutter\")\n",
    "axes2[0].set(xlabel=\"Pitch Speed (mph)\", ylabel = \"Spin Rate (rpm)\")\n",
    "#\n",
    "sns.scatterplot(data=sf4, x=\"release_speed\", y=\"release_spin_rate\", hue=\"pitch_name\", ax = axes2[1], palette=[\"blue\"])\n",
    "axes2[1].set_title(\"4-Seam Fastball\")\n",
    "axes2[1].set(xlabel=\"Pitch Speed (mph)\", ylabel = \"Spin Rate (rpm)\")\n",
    "#\n",
    "sns.scatterplot(data=sinker, x=\"release_speed\", y=\"release_spin_rate\", hue=\"pitch_name\", ax = axes2[2], palette=[\"orange\"])\n",
    "axes2[2].set_title(\"Sinker\")\n",
    "axes2[2].set(xlabel=\"Pitch Speed (mph)\", ylabel = \"Spin Rate (rpm)\")\n",
    "#\n",
    "fig2.suptitle(\"2019 Fastballs: Speed vs. Spin Rate Pitch Type\", fontsize = 25, fontweight=\"bold\")\n",
    "fig2.legend(loc=\"center right\")"
   ]
  },
  {
   "cell_type": "code",
   "execution_count": null,
   "metadata": {},
   "outputs": [],
   "source": [
    "# plotting each fastball type \n",
    "fig2, axes2 = plt.subplots(1, 3, figsize = (18,8))\n",
    "#\n",
    "sns.regplot(data=cutter, x=\"release_speed\", y=\"release_spin_rate\", ax = axes2[0], ci=100, color=\"green\")\n",
    "axes2[0].set_title(\"Cutter\")\n",
    "axes2[0].set(xlabel=\"Pitch Speed (mph)\", ylabel = \"Spin Rate (rpm)\")\n",
    "\n",
    "#\n",
    "sns.regplot(data=sf4, x=\"release_speed\", y=\"release_spin_rate\", ax = axes2[1], ci=100, color=\"blue\")\n",
    "axes2[1].set_title(\"4-Seam Fastball\")\n",
    "axes2[1].set(xlabel=\"Pitch Speed (mph)\", ylabel = \"Spin Rate (rpm)\")\n",
    "#\n",
    "sns.regplot(data=sinker, x=\"release_speed\", y=\"release_spin_rate\", ax = axes2[2], ci=100, color=\"orange\")\n",
    "axes2[2].set_title(\"Sinker\")\n",
    "axes2[2].set(xlabel=\"Pitch Speed (mph)\", ylabel = \"Spin Rate (rpm)\")\n",
    "#\n",
    "fig2.suptitle(\"2019 Fastballs: Speed vs. Spin Rate Pitch Type\", fontsize = 25, fontweight=\"bold\")"
   ]
  },
  {
   "cell_type": "code",
   "execution_count": null,
   "metadata": {},
   "outputs": [],
   "source": [
    "# subsetting each Fastball pitch type\n",
    "curveball = statcast_2019[(statcast_2019['pitch_category']==\"Breaking Balls\") & (statcast_2019['pitch_name']==\"Curveball\")]\n",
    "knuckle_curve = statcast_2019[(statcast_2019['pitch_category']==\"Breaking Balls\") & (statcast_2019['pitch_name']==\"Knuckle Curve\")]\n",
    "slider = statcast_2019[(statcast_2019['pitch_category']==\"Breaking Balls\") & (statcast_2019['pitch_name']==\"Slider\")]\n",
    "\n",
    "# plotting each fastball type \n",
    "fig2, axes2 = plt.subplots(1, 3, figsize = (18,8))\n",
    "#\n",
    "sns.scatterplot(data=curveball, x=\"release_speed\", y=\"release_spin_rate\", hue=\"pitch_name\", ax = axes2[0], palette=[\"green\"])\n",
    "axes2[0].set_title(\"Curveball\")\n",
    "axes2[0].set(xlabel=\"Pitch Speed (mph)\", ylabel = \"Spin Rate (rpm)\")\n",
    "\n",
    "#\n",
    "sns.scatterplot(data=knuckle_curve, x=\"release_speed\", y=\"release_spin_rate\", hue=\"pitch_name\", ax = axes2[1], palette=[\"blue\"])\n",
    "axes2[1].set_title(\"Knuckle Curve\")\n",
    "axes2[1].set(xlabel=\"Pitch Speed (mph)\", ylabel = \"Spin Rate (rpm)\")\n",
    "#\n",
    "sns.scatterplot(data=slider, x=\"release_speed\", y=\"release_spin_rate\", hue=\"pitch_name\", ax = axes2[2], palette=[\"orange\"])\n",
    "axes2[2].set_title(\"Slider\")\n",
    "axes2[2].set(xlabel=\"Pitch Speed (mph)\", ylabel = \"Spin Rate (rpm)\")\n",
    "#\n",
    "fig2.suptitle(\"2019 Breaking Balls: Speed vs. Spin Rate Pitch Type\", fontsize = 25, fontweight=\"bold\")\n",
    "fig2.legend(loc=\"center right\")"
   ]
  },
  {
   "cell_type": "code",
   "execution_count": null,
   "metadata": {},
   "outputs": [],
   "source": [
    "# subsetting each Fastball pitch type\n",
    "changeup = statcast_2019[(statcast_2019['pitch_category']==\"Offspeed\") & (statcast_2019['pitch_name']==\"Changeup\")]\n",
    "split_finger = statcast_2019[(statcast_2019['pitch_category']==\"Offspeed\") & (statcast_2019['pitch_name']==\"Split Finger\")]\n",
    "\n",
    "# plotting each fastball type \n",
    "fig2, axes2 = plt.subplots(1, 2, figsize = (18,8))\n",
    "#\n",
    "sns.scatterplot(data=changeup, x=\"release_speed\", y=\"release_spin_rate\", hue=\"pitch_name\", ax = axes2[0], palette=[\"green\"])\n",
    "axes2[0].set_title(\"Changeup\")\n",
    "axes2[0].set(xlabel=\"Pitch Speed (mph)\", ylabel = \"Spin Rate (rpm)\")\n",
    "#\n",
    "sns.scatterplot(data=split_finger, x=\"release_speed\", y=\"release_spin_rate\", hue=\"pitch_name\", ax = axes2[1], palette=[\"blue\"])\n",
    "axes2[1].set_title(\"Split Finger\")\n",
    "axes2[1].set(xlabel=\"Pitch Speed (mph)\", ylabel = \"Spin Rate (rpm)\")\n",
    "#\n",
    "fig2.suptitle(\"2019 Offspeed: Speed vs. Spin Rate Pitch Type\", fontsize = 25, fontweight=\"bold\")\n",
    "fig2.legend(loc=\"center right\")\n"
   ]
  },
  {
   "cell_type": "markdown",
   "metadata": {},
   "source": [
    "---"
   ]
  },
  {
   "cell_type": "markdown",
   "metadata": {},
   "source": [
    "### Correlations"
   ]
  },
  {
   "cell_type": "code",
   "execution_count": null,
   "metadata": {},
   "outputs": [],
   "source": [
    "# correlation function\n",
    "def pitchCorrelation(x, y):\n",
    "    \n",
    "    slope, intercept, r_value, p_value, std_err = stats.linregress(x, y)\n",
    "    return slope, intercept, r_value**2, p_value, std_err\n",
    "\n",
    "##########################################################################\n",
    "\n",
    "# correlation between release_speed and spin rate\n",
    "pitchCorrelation(statcast_2019[\"release_speed\"], statcast_2019[\"release_spin_rate\"])\n",
    "\n",
    "# FASTBALLS \n",
    "\n",
    "# cutter correlation between release_speed and spin rate\n",
    "pitchCorrelation(cutter[\"release_speed\"], cutter[\"release_spin_rate\"])\n",
    "\n",
    "# 4-seam fastball correlation between release_speed and spin rate\n",
    "pitchCorrelation(sf4[\"release_speed\"], sf4[\"release_spin_rate\"])\n",
    "\n",
    "# sinker correlation between release_speed and spin rate\n",
    "pitchCorrelation(sinker[\"release_speed\"], sinker[\"release_spin_rate\"])\n",
    "\n",
    "#BREAKING BALLS\n",
    "\n",
    "# curveball correlation between release_speed and spin rate\n",
    "pitchCorrelation(curveball[\"release_speed\"], curveball[\"release_spin_rate\"])\n",
    "\n",
    "# knuckle curve correlation between release_speed and spin rate\n",
    "pitchCorrelation(knuckle_curve[\"release_speed\"], knuckle_curve[\"release_spin_rate\"])\n",
    "\n",
    "# slider correlation between release_speed and spin rate\n",
    "pitchCorrelation(slider[\"release_speed\"], slider[\"release_spin_rate\"])\n",
    "\n",
    "# OFFSPEED\n",
    "\n",
    "# changeup correlation between release_speed and spin rate\n",
    "pitchCorrelation(changeup[\"release_speed\"], changeup[\"release_spin_rate\"])\n",
    "\n",
    "# splitter correlation between release_speed and spin rate\n",
    "pitchCorrelation(split_finger[\"release_speed\"], split_finger[\"release_spin_rate\"])"
   ]
  },
  {
   "cell_type": "code",
   "execution_count": null,
   "metadata": {},
   "outputs": [],
   "source": [
    "# function to calculate mean, standard deviation and count for the given parameter\n",
    "def mean_std(parameter):\n",
    "    parameter_mean = parameter.mean()\n",
    "    parameter_std = parameter.std()\n",
    "    parameter_count = parameter.count()\n",
    "\n",
    "    return parameter_mean, parameter_std, parameter_count"
   ]
  },
  {
   "cell_type": "markdown",
   "metadata": {},
   "source": [
    "---"
   ]
  },
  {
   "cell_type": "markdown",
   "metadata": {},
   "source": [
    "### Two Sample Mean Hypothesis Testing"
   ]
  },
  {
   "cell_type": "code",
   "execution_count": null,
   "metadata": {},
   "outputs": [],
   "source": [
    "spin_in_play_mean = spin_in_play[\"release_spin_rate\"].mean()"
   ]
  },
  {
   "cell_type": "code",
   "execution_count": null,
   "metadata": {},
   "outputs": [],
   "source": [
    "# Spin Rate Mean and Standard Deviation for in_play outcomes\n",
    "\n",
    "# in play outcomes\n",
    "spin_in_play = statcast_2019[statcast_2019[\"outcome\"]== \"in_play\"]\n",
    "spin_in_play_mean = spin_in_play[\"release_spin_rate\"].mean()\n",
    "spin_in_play_std = spin_in_play[\"release_spin_rate\"].std()\n",
    "in_play_spin = spin_in_play[\"release_spin_rate\"]\n",
    "\n",
    "# swing outcomes\n",
    "spin_swing = statcast_2019[statcast_2019[\"outcome\"]== \"swinging_strike\"]\n",
    "spin_swing_mean = spin_swing[\"release_spin_rate\"].mean()\n",
    "spin_swing_std = spin_swing[\"release_spin_rate\"].std()\n",
    "swing_spin = spin_swing[\"release_spin_rate\"]\n",
    "\n",
    "\n",
    "# hypothesis testing \n",
    "\n",
    "# function that returns the two sample hypothesis testing and the confidence intervals\n",
    "def hypo_test(samp1, samp2):\n",
    "    \n",
    "    # hypothesis testing\n",
    "    hypo_test = stats.ttest_ind(a=samp1, b=samp2)\n",
    "    # confidence intervals\n",
    "    swing_confidence = stats.t.interval(0.95, len(samp1) - 1, loc=np.mean(samp1), scale=stats.sem(samp1))\n",
    "    in_play_confidence = stats.t.interval(0.95, len(samp2) - 1, loc=np.mean(samp2), scale=stats.sem(samp2))\n",
    "    \n",
    "    return hypo_test, swing_confidence, in_play_confidence\n",
    "\n",
    "hypo_test(swing_spin, in_play_spin)"
   ]
  },
  {
   "cell_type": "code",
   "execution_count": null,
   "metadata": {},
   "outputs": [],
   "source": [
    "# Velo Mean and Standard Deviation for in_play outcomes\n",
    "\n",
    "# in play outcomes\n",
    "speed_in_play = statcast_2019[statcast_2019[\"outcome\"]== \"in_play\"]\n",
    "speed_in_play_mean = speed_in_play[\"release_speed\"].mean()\n",
    "speed_in_play_std = speed_in_play[\"release_speed\"].std()\n",
    "in_play_speed = speed_in_play[\"release_speed\"]\n",
    "\n",
    "# swing outcomes\n",
    "speed_swing = statcast_2019[statcast_2019[\"outcome\"]== \"swinging_strike\"]\n",
    "speed_swing_mean = speed_swing[\"release_speed\"].mean()\n",
    "speed_swing_std = speed_swing[\"release_speed\"].std()\n",
    "swing_speed = speed_swing[\"release_speed\"]\n",
    "\n",
    "# hypothesis testing\n",
    "\n",
    "# function that returns the two sample hypothesis testing and the confidence intervals\n",
    "def hypo_test(samp1, samp2):\n",
    "    \n",
    "    # hypothesis testing\n",
    "    hypo_test = stats.ttest_ind(a=samp1, b=samp2)\n",
    "    # confidence intervals\n",
    "    swing_confidence = stats.t.interval(0.95, len(samp1) - 1, loc=np.mean(samp1), scale=stats.sem(samp1))\n",
    "    in_play_confidence = stats.t.interval(0.95, len(samp2) - 1, loc=np.mean(samp2), scale=stats.sem(samp2))\n",
    "    \n",
    "    return hypo_test, swing_confidence, in_play_confidence\n",
    "\n",
    "hypo_test(swing_speed, in_play_speed)"
   ]
  },
  {
   "cell_type": "code",
   "execution_count": null,
   "metadata": {
    "jupyter": {
     "source_hidden": true
    }
   },
   "outputs": [],
   "source": [
    "pitcher = statcast_2019[statcast_2019[\"player_name\"]== \"Daniel Hudson\"]"
   ]
  },
  {
   "cell_type": "code",
   "execution_count": null,
   "metadata": {
    "jupyter": {
     "source_hidden": true
    }
   },
   "outputs": [],
   "source": [
    "from mpl_toolkits.mplot3d import Axes3D\n",
    "fig = plt.figure(figsize=(10,6))\n",
    "ax = fig.add_subplot(111, projection=\"3d\")\n",
    "ax.scatter(pitcher[\"release_spin_rate\"], pitcher[\"release_speed\"], pitcher[\"zone\"])\n",
    "plt.show()"
   ]
  },
  {
   "cell_type": "code",
   "execution_count": null,
   "metadata": {},
   "outputs": [],
   "source": []
  }
 ],
 "metadata": {
  "kernelspec": {
   "display_name": "Python 3",
   "language": "python",
   "name": "python3"
  },
  "language_info": {
   "codemirror_mode": {
    "name": "ipython",
    "version": 3
   },
   "file_extension": ".py",
   "mimetype": "text/x-python",
   "name": "python",
   "nbconvert_exporter": "python",
   "pygments_lexer": "ipython3",
   "version": "3.8.5"
  }
 },
 "nbformat": 4,
 "nbformat_minor": 4
}
